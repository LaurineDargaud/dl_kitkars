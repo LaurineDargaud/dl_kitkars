{
 "cells": [
  {
   "cell_type": "code",
   "execution_count": 6,
   "metadata": {},
   "outputs": [
    {
     "name": "stdout",
     "output_type": "stream",
     "text": [
      "== DATASET SIZES ==\n",
      "Training set: 2967\n",
      "Validation set: 524\n",
      "Test set: 30\n"
     ]
    }
   ],
   "source": [
    "from src.data.DeloitteDataset import split_dataset\n",
    "\n",
    "train_dataset, valid_dataset, test_dataset = split_dataset(\n",
    "        '../data/raw/carseg_data/clean_data', \n",
    "        '../references/test_set_ids.txt'\n",
    "    )\n",
    "\n",
    "print(\"== DATASET SIZES ==\")\n",
    "print('Training set:', len(train_dataset))\n",
    "print('Validation set:', len(valid_dataset))\n",
    "print('Test set:', len(test_dataset))"
   ]
  }
 ],
 "metadata": {
  "kernelspec": {
   "display_name": "Python 3.9.12 ('base')",
   "language": "python",
   "name": "python3"
  },
  "language_info": {
   "codemirror_mode": {
    "name": "ipython",
    "version": 3
   },
   "file_extension": ".py",
   "mimetype": "text/x-python",
   "name": "python",
   "nbconvert_exporter": "python",
   "pygments_lexer": "ipython3",
   "version": "3.9.12"
  },
  "orig_nbformat": 4,
  "vscode": {
   "interpreter": {
    "hash": "b436ce4aa9a050b3c12f13399e5d5f02b520991d83a91cd5126888583b80ec2a"
   }
  }
 },
 "nbformat": 4,
 "nbformat_minor": 2
}
