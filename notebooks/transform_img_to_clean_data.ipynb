{
 "cells": [
  {
   "cell_type": "code",
   "execution_count": 5,
   "metadata": {},
   "outputs": [],
   "source": [
    "# IMPORTS\n",
    "\n",
    "import numpy as np\n",
    "from pathlib import Path\n",
    "import glob2\n",
    "import matplotlib.pyplot as plt\n",
    "import cv2\n",
    "from tqdm import tqdm\n",
    "\n",
    "from src.visualization.visualization_fct import mask_to_rgb\n",
    "\n",
    "# CONSTANTS\n",
    "\n",
    "path = '../data/to_infer/'\n",
    "path_results=path+'clean_data/'"
   ]
  },
  {
   "cell_type": "code",
   "execution_count": 20,
   "metadata": {},
   "outputs": [
    {
     "name": "stdout",
     "output_type": "stream",
     "text": [
      "Number of files: 4\n"
     ]
    }
   ],
   "source": [
    "# NB OF FILES IN CLEAN DATASET: 3521\n",
    "\n",
    "all_paths = [ Path(p).absolute() for p in glob2.glob(path + '*.png') ]\n",
    "all_paths = all_paths + [ Path(p).absolute() for p in glob2.glob(path + '*.jpg') ]\n",
    "print('Number of files:', len(all_paths))"
   ]
  },
  {
   "cell_type": "code",
   "execution_count": 34,
   "metadata": {},
   "outputs": [],
   "source": [
    "# load all files\n",
    "all_files = [cv2.imread(str(f)) for f in all_paths]\n",
    "all_files = [a[:,:,[2,1,0]] for a in all_files]\n",
    "all_npy_files = [(np.transpose(a, (2,0,1))/255) for a in all_files]\n",
    "\n",
    "for i in range(len(all_files)):\n",
    "    aFile, aFileName = all_npy_files[i], all_paths[i]\n",
    "    _, H, W = aFile.shape\n",
    "    aMask = np.zeros((1,H,W))\n",
    "    anItem = np.concatenate([aFile, aMask])\n",
    "    np.save(path_results+aFileName.stem+'.npy', anItem)"
   ]
  }
 ],
 "metadata": {
  "kernelspec": {
   "display_name": "Python 3.9.12 ('base')",
   "language": "python",
   "name": "python3"
  },
  "language_info": {
   "codemirror_mode": {
    "name": "ipython",
    "version": 3
   },
   "file_extension": ".py",
   "mimetype": "text/x-python",
   "name": "python",
   "nbconvert_exporter": "python",
   "pygments_lexer": "ipython3",
   "version": "3.9.12"
  },
  "orig_nbformat": 4,
  "vscode": {
   "interpreter": {
    "hash": "b436ce4aa9a050b3c12f13399e5d5f02b520991d83a91cd5126888583b80ec2a"
   }
  }
 },
 "nbformat": 4,
 "nbformat_minor": 2
}
